{
 "cells": [
  {
   "cell_type": "code",
   "execution_count": null,
   "id": "a1385818",
   "metadata": {},
   "outputs": [
    {
     "name": "stdout",
     "output_type": "stream",
     "text": [
      "私の名前は yutaです。来年で 39 歳になります。\n"
     ]
    }
   ],
   "source": [
    "name = input(\"名前を入力してください：\") \n",
    "age = input(\"現在の年齢を入力してください：\") \n",
    "age = int(age) #年齢を整数に変更\n",
    "age += 1 #来年の年齢にする\n",
    "print(f\"私の名前は {name}です。来年で {age} 歳になります。\")\n"
   ]
  },
  {
   "cell_type": "code",
   "execution_count": null,
   "id": "0fe870d5",
   "metadata": {},
   "outputs": [
    {
     "name": "stdout",
     "output_type": "stream",
     "text": [
      "私の名前は yuta です。来年で 39 歳になります。\n"
     ]
    }
   ],
   "source": [
    "# 関数化して短く出来た\n",
    "def introduce_age():\n",
    "    name = input(\"あなたの名前を入力してください：\")\n",
    "    age = int(input(\"あなたの現在の年齢を入力してください：\"))\n",
    "    print(f\"私の名前は {name} です。来年で {age + 1} 歳になります。\")\n",
    "\n",
    "introduce_age()\n"
   ]
  }
 ],
 "metadata": {
  "kernelspec": {
   "display_name": ".venv",
   "language": "python",
   "name": "python3"
  },
  "language_info": {
   "codemirror_mode": {
    "name": "ipython",
    "version": 3
   },
   "file_extension": ".py",
   "mimetype": "text/x-python",
   "name": "python",
   "nbconvert_exporter": "python",
   "pygments_lexer": "ipython3",
   "version": "3.12.10"
  }
 },
 "nbformat": 4,
 "nbformat_minor": 5
}
