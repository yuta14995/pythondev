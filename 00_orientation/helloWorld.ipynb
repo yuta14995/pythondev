{
 "cells": [
  {
   "cell_type": "markdown",
   "id": "bb954529",
   "metadata": {},
   "source": [
    "# レッスン0\n",
    "- VS Codeの基本的な書き方\n"
   ]
  },
  {
   "cell_type": "code",
   "execution_count": 3,
   "id": "a5e2d057",
   "metadata": {},
   "outputs": [
    {
     "name": "stdout",
     "output_type": "stream",
     "text": [
      "Hello! World!\n",
      "こんにちは！ 世界！\n"
     ]
    }
   ],
   "source": [
    "print(\"Hello! World!\")\n",
    "print(\"こんにちは！ 世界！\")\n",
    "\n"
   ]
  }
 ],
 "metadata": {
  "kernelspec": {
   "display_name": ".venv",
   "language": "python",
   "name": "python3"
  },
  "language_info": {
   "codemirror_mode": {
    "name": "ipython",
    "version": 3
   },
   "file_extension": ".py",
   "mimetype": "text/x-python",
   "name": "python",
   "nbconvert_exporter": "python",
   "pygments_lexer": "ipython3",
   "version": "3.12.10"
  }
 },
 "nbformat": 4,
 "nbformat_minor": 5
}
