{
 "cells": [
  {
   "cell_type": "code",
   "execution_count": 17,
   "id": "3dc97708",
   "metadata": {},
   "outputs": [
    {
     "name": "stdout",
     "output_type": "stream",
     "text": [
      "送料は350円かかります\n",
      "送料込みの価格は2330です。\n"
     ]
    }
   ],
   "source": [
    "tax = 0.1\n",
    "fee = 350\n",
    "\n",
    "price = int(input(\"税抜価格を入力してください：\"))\n",
    "price = round(price * (1 + tax))\n",
    "\n",
    "if price >= 2000:\n",
    "    print(\"送料は無料です\")\n",
    "else:\n",
    "    print(f\"送料は{fee}円かかります\")\n",
    "    price += fee\n",
    "print(f\"送料込みの価格は{price}です。\")"
   ]
  }
 ],
 "metadata": {
  "kernelspec": {
   "display_name": ".venv",
   "language": "python",
   "name": "python3"
  },
  "language_info": {
   "codemirror_mode": {
    "name": "ipython",
    "version": 3
   },
   "file_extension": ".py",
   "mimetype": "text/x-python",
   "name": "python",
   "nbconvert_exporter": "python",
   "pygments_lexer": "ipython3",
   "version": "3.12.10"
  }
 },
 "nbformat": 4,
 "nbformat_minor": 5
}
